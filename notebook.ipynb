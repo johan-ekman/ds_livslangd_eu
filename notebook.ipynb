{
 "cells": [
  {
   "cell_type": "code",
   "execution_count": 47,
   "metadata": {},
   "outputs": [],
   "source": [
    "import pandas as pd\n",
    "import numpy as np\n",
    "\n",
    "import os\n",
    "import warnings\n",
    "warnings.filterwarnings('ignore')"
   ]
  },
  {
   "cell_type": "markdown",
   "metadata": {},
   "source": [
    "**December 2018**\n",
    "\n",
    "Påhl Ruin hittade statistik på livslängden i olika regioner inom EU. Vi kom på att det vore kul att göra en artikel om hur under förväntan svenska regioners livslängd är jämfört andra regioner i Europa. Resultatet gick på trendsidan i nr 1 2019. På webben [hittar man artikeln här](https://www.dagenssamhalle.se/nyhet/svenskar-lever-inte-langre-langst-25656)! Källa är [Eurostat](http://appsso.eurostat.ec.europa.eu/nui/show.do?dataset=demo_r_mlifexp&lang=en)."
   ]
  },
  {
   "cell_type": "code",
   "execution_count": 48,
   "metadata": {},
   "outputs": [],
   "source": [
    "df = pd.read_csv('data/eurostat.csv', encoding=\"ISO-8859-1\")"
   ]
  },
  {
   "cell_type": "code",
   "execution_count": 49,
   "metadata": {},
   "outputs": [],
   "source": [
    "info = pd.read_csv('data/info.csv', encoding=\"ISO-8859-1\")"
   ]
  },
  {
   "cell_type": "markdown",
   "metadata": {},
   "source": [
    "Data från Eurostat är ganska krångligt formatterad. Därför krävs en del tvätt. Till varje datakörning på eurostats hemsida kan man dra ut en infofil med vad varje regionförkortning står för. Men här tvättas all data löpandes och sedan har jag gjort en del dubbelkollar för att se att allt stämmer. Men först tvätt:"
   ]
  },
  {
   "cell_type": "code",
   "execution_count": 50,
   "metadata": {},
   "outputs": [],
   "source": [
    "info['region'] = info.GEO.str.extract(\" - (.*)\")\n",
    "info['kod'] = info.GEO.str.extract(\"(.*) - \")"
   ]
  },
  {
   "cell_type": "code",
   "execution_count": 51,
   "metadata": {},
   "outputs": [],
   "source": [
    "info.loc[(~info['GEO'].str.contains('\\d+'))&(info.kod.str.len()<3),'land'] = \\\n",
    "info.loc[(~info['GEO'].str.contains('\\d+'))&(info.kod.str.len()<3),'region']"
   ]
  },
  {
   "cell_type": "markdown",
   "metadata": {},
   "source": [
    "Tyskland måste döpas om:"
   ]
  },
  {
   "cell_type": "code",
   "execution_count": 52,
   "metadata": {},
   "outputs": [],
   "source": [
    "info.loc[info['GEO'].str.contains('DE'),'land'] = 'Germany'"
   ]
  },
  {
   "cell_type": "code",
   "execution_count": 53,
   "metadata": {},
   "outputs": [],
   "source": [
    "info.land = info.land.ffill()"
   ]
  },
  {
   "cell_type": "markdown",
   "metadata": {},
   "source": [
    "Nu lite viktig ytterligare tvätt. Här skapas kolumner med regionkoderna etc.Håll t ex koll på Londons regionindelning, det är något vajsing med den:"
   ]
  },
  {
   "cell_type": "code",
   "execution_count": 54,
   "metadata": {},
   "outputs": [
    {
     "data": {
      "text/html": [
       "<div>\n",
       "<style scoped>\n",
       "    .dataframe tbody tr th:only-of-type {\n",
       "        vertical-align: middle;\n",
       "    }\n",
       "\n",
       "    .dataframe tbody tr th {\n",
       "        vertical-align: top;\n",
       "    }\n",
       "\n",
       "    .dataframe thead th {\n",
       "        text-align: right;\n",
       "    }\n",
       "</style>\n",
       "<table border=\"1\" class=\"dataframe\">\n",
       "  <thead>\n",
       "    <tr style=\"text-align: right;\">\n",
       "      <th></th>\n",
       "      <th>GEO</th>\n",
       "      <th>region</th>\n",
       "      <th>kod</th>\n",
       "      <th>land</th>\n",
       "    </tr>\n",
       "  </thead>\n",
       "  <tbody>\n",
       "    <tr>\n",
       "      <th>376</th>\n",
       "      <td>UKI - London</td>\n",
       "      <td>London</td>\n",
       "      <td>UKI</td>\n",
       "      <td>United Kingdom</td>\n",
       "    </tr>\n",
       "    <tr>\n",
       "      <th>377</th>\n",
       "      <td>UKI3 - Inner London - West</td>\n",
       "      <td>Inner London - West</td>\n",
       "      <td>UKI3 - Inner London</td>\n",
       "      <td>United Kingdom</td>\n",
       "    </tr>\n",
       "    <tr>\n",
       "      <th>378</th>\n",
       "      <td>UKI4 - Inner London - East</td>\n",
       "      <td>Inner London - East</td>\n",
       "      <td>UKI4 - Inner London</td>\n",
       "      <td>United Kingdom</td>\n",
       "    </tr>\n",
       "    <tr>\n",
       "      <th>379</th>\n",
       "      <td>UKI5 - Outer London - East and North East</td>\n",
       "      <td>Outer London - East and North East</td>\n",
       "      <td>UKI5 - Outer London</td>\n",
       "      <td>United Kingdom</td>\n",
       "    </tr>\n",
       "    <tr>\n",
       "      <th>380</th>\n",
       "      <td>UKI6 - Outer London - South</td>\n",
       "      <td>Outer London - South</td>\n",
       "      <td>UKI6 - Outer London</td>\n",
       "      <td>United Kingdom</td>\n",
       "    </tr>\n",
       "    <tr>\n",
       "      <th>381</th>\n",
       "      <td>UKI7 - Outer London - West and North West</td>\n",
       "      <td>Outer London - West and North West</td>\n",
       "      <td>UKI7 - Outer London</td>\n",
       "      <td>United Kingdom</td>\n",
       "    </tr>\n",
       "  </tbody>\n",
       "</table>\n",
       "</div>"
      ],
      "text/plain": [
       "                                           GEO  \\\n",
       "376                               UKI - London   \n",
       "377                 UKI3 - Inner London - West   \n",
       "378                 UKI4 - Inner London - East   \n",
       "379  UKI5 - Outer London - East and North East   \n",
       "380                UKI6 - Outer London - South   \n",
       "381  UKI7 - Outer London - West and North West   \n",
       "\n",
       "                                 region                  kod            land  \n",
       "376                              London                  UKI  United Kingdom  \n",
       "377                 Inner London - West  UKI3 - Inner London  United Kingdom  \n",
       "378                 Inner London - East  UKI4 - Inner London  United Kingdom  \n",
       "379  Outer London - East and North East  UKI5 - Outer London  United Kingdom  \n",
       "380                Outer London - South  UKI6 - Outer London  United Kingdom  \n",
       "381  Outer London - West and North West  UKI7 - Outer London  United Kingdom  "
      ]
     },
     "execution_count": 54,
     "metadata": {},
     "output_type": "execute_result"
    }
   ],
   "source": [
    "info.loc[info['region'].str.contains('London')]"
   ]
  },
  {
   "cell_type": "code",
   "execution_count": 55,
   "metadata": {},
   "outputs": [],
   "source": [
    "info['reg_kod'] = info.kod.str.extract('(\\w+\\d+)')\n",
    "\n",
    "info.loc[info['kod'].str.contains('-'),'kod'] = \\\n",
    "info.loc[info['kod'].str.contains('-'),'reg_kod']\n",
    "\n",
    "\n",
    "info = info.drop('reg_kod',axis=1)"
   ]
  },
  {
   "cell_type": "code",
   "execution_count": 56,
   "metadata": {},
   "outputs": [
    {
     "data": {
      "text/html": [
       "<div>\n",
       "<style scoped>\n",
       "    .dataframe tbody tr th:only-of-type {\n",
       "        vertical-align: middle;\n",
       "    }\n",
       "\n",
       "    .dataframe tbody tr th {\n",
       "        vertical-align: top;\n",
       "    }\n",
       "\n",
       "    .dataframe thead th {\n",
       "        text-align: right;\n",
       "    }\n",
       "</style>\n",
       "<table border=\"1\" class=\"dataframe\">\n",
       "  <thead>\n",
       "    <tr style=\"text-align: right;\">\n",
       "      <th></th>\n",
       "      <th>GEO</th>\n",
       "      <th>region</th>\n",
       "      <th>kod</th>\n",
       "      <th>land</th>\n",
       "    </tr>\n",
       "  </thead>\n",
       "  <tbody>\n",
       "    <tr>\n",
       "      <th>0</th>\n",
       "      <td>BE - Belgium</td>\n",
       "      <td>Belgium</td>\n",
       "      <td>BE</td>\n",
       "      <td>Belgium</td>\n",
       "    </tr>\n",
       "    <tr>\n",
       "      <th>1</th>\n",
       "      <td>BE1 - Région de Bruxelles-Capitale / Brussels ...</td>\n",
       "      <td>Région de Bruxelles-Capitale / Brussels Hoofds...</td>\n",
       "      <td>BE1</td>\n",
       "      <td>Belgium</td>\n",
       "    </tr>\n",
       "    <tr>\n",
       "      <th>2</th>\n",
       "      <td>BE10 - Région de Bruxelles-Capitale / Brussels...</td>\n",
       "      <td>Région de Bruxelles-Capitale / Brussels Hoofds...</td>\n",
       "      <td>BE10</td>\n",
       "      <td>Belgium</td>\n",
       "    </tr>\n",
       "    <tr>\n",
       "      <th>3</th>\n",
       "      <td>BE2 - Vlaams Gewest</td>\n",
       "      <td>Vlaams Gewest</td>\n",
       "      <td>BE2</td>\n",
       "      <td>Belgium</td>\n",
       "    </tr>\n",
       "    <tr>\n",
       "      <th>4</th>\n",
       "      <td>BE21 - Prov. Antwerpen</td>\n",
       "      <td>Prov. Antwerpen</td>\n",
       "      <td>BE21</td>\n",
       "      <td>Belgium</td>\n",
       "    </tr>\n",
       "  </tbody>\n",
       "</table>\n",
       "</div>"
      ],
      "text/plain": [
       "                                                 GEO  \\\n",
       "0                                       BE - Belgium   \n",
       "1  BE1 - Région de Bruxelles-Capitale / Brussels ...   \n",
       "2  BE10 - Région de Bruxelles-Capitale / Brussels...   \n",
       "3                                BE2 - Vlaams Gewest   \n",
       "4                             BE21 - Prov. Antwerpen   \n",
       "\n",
       "                                              region   kod     land  \n",
       "0                                            Belgium    BE  Belgium  \n",
       "1  Région de Bruxelles-Capitale / Brussels Hoofds...   BE1  Belgium  \n",
       "2  Région de Bruxelles-Capitale / Brussels Hoofds...  BE10  Belgium  \n",
       "3                                      Vlaams Gewest   BE2  Belgium  \n",
       "4                                    Prov. Antwerpen  BE21  Belgium  "
      ]
     },
     "execution_count": 56,
     "metadata": {},
     "output_type": "execute_result"
    }
   ],
   "source": [
    "info.head()"
   ]
  },
  {
   "cell_type": "code",
   "execution_count": 57,
   "metadata": {},
   "outputs": [],
   "source": [
    "info = info[['kod','land','region']]"
   ]
  },
  {
   "cell_type": "code",
   "execution_count": 58,
   "metadata": {},
   "outputs": [],
   "source": [
    "df.columns = df.columns.str.lower().str.replace('geo','kod').str.replace(' ','_')"
   ]
  },
  {
   "cell_type": "code",
   "execution_count": 59,
   "metadata": {},
   "outputs": [],
   "source": [
    "df = df.drop('flag_and_footnotes',axis=1)"
   ]
  },
  {
   "cell_type": "code",
   "execution_count": 60,
   "metadata": {},
   "outputs": [
    {
     "data": {
      "text/html": [
       "<div>\n",
       "<style scoped>\n",
       "    .dataframe tbody tr th:only-of-type {\n",
       "        vertical-align: middle;\n",
       "    }\n",
       "\n",
       "    .dataframe tbody tr th {\n",
       "        vertical-align: top;\n",
       "    }\n",
       "\n",
       "    .dataframe thead th {\n",
       "        text-align: right;\n",
       "    }\n",
       "</style>\n",
       "<table border=\"1\" class=\"dataframe\">\n",
       "  <thead>\n",
       "    <tr style=\"text-align: right;\">\n",
       "      <th></th>\n",
       "      <th>time</th>\n",
       "      <th>kod</th>\n",
       "      <th>kod_label</th>\n",
       "      <th>sex</th>\n",
       "      <th>age</th>\n",
       "      <th>unit</th>\n",
       "      <th>value</th>\n",
       "    </tr>\n",
       "  </thead>\n",
       "  <tbody>\n",
       "    <tr>\n",
       "      <th>0</th>\n",
       "      <td>2016</td>\n",
       "      <td>BE</td>\n",
       "      <td>Belgium</td>\n",
       "      <td>Total</td>\n",
       "      <td>Less than 1 year</td>\n",
       "      <td>Year</td>\n",
       "      <td>81.5</td>\n",
       "    </tr>\n",
       "    <tr>\n",
       "      <th>1</th>\n",
       "      <td>2016</td>\n",
       "      <td>BE</td>\n",
       "      <td>Belgium</td>\n",
       "      <td>Males</td>\n",
       "      <td>Less than 1 year</td>\n",
       "      <td>Year</td>\n",
       "      <td>79.0</td>\n",
       "    </tr>\n",
       "    <tr>\n",
       "      <th>2</th>\n",
       "      <td>2016</td>\n",
       "      <td>BE</td>\n",
       "      <td>Belgium</td>\n",
       "      <td>Females</td>\n",
       "      <td>Less than 1 year</td>\n",
       "      <td>Year</td>\n",
       "      <td>84.0</td>\n",
       "    </tr>\n",
       "    <tr>\n",
       "      <th>3</th>\n",
       "      <td>2016</td>\n",
       "      <td>BE1</td>\n",
       "      <td>Région de Bruxelles-Capitale / Brussels Hoofds...</td>\n",
       "      <td>Total</td>\n",
       "      <td>Less than 1 year</td>\n",
       "      <td>Year</td>\n",
       "      <td>81.3</td>\n",
       "    </tr>\n",
       "    <tr>\n",
       "      <th>4</th>\n",
       "      <td>2016</td>\n",
       "      <td>BE1</td>\n",
       "      <td>Région de Bruxelles-Capitale / Brussels Hoofds...</td>\n",
       "      <td>Males</td>\n",
       "      <td>Less than 1 year</td>\n",
       "      <td>Year</td>\n",
       "      <td>78.4</td>\n",
       "    </tr>\n",
       "  </tbody>\n",
       "</table>\n",
       "</div>"
      ],
      "text/plain": [
       "   time  kod                                          kod_label      sex  \\\n",
       "0  2016   BE                                            Belgium    Total   \n",
       "1  2016   BE                                            Belgium    Males   \n",
       "2  2016   BE                                            Belgium  Females   \n",
       "3  2016  BE1  Région de Bruxelles-Capitale / Brussels Hoofds...    Total   \n",
       "4  2016  BE1  Région de Bruxelles-Capitale / Brussels Hoofds...    Males   \n",
       "\n",
       "                age  unit value  \n",
       "0  Less than 1 year  Year  81.5  \n",
       "1  Less than 1 year  Year  79.0  \n",
       "2  Less than 1 year  Year  84.0  \n",
       "3  Less than 1 year  Year  81.3  \n",
       "4  Less than 1 year  Year  78.4  "
      ]
     },
     "execution_count": 60,
     "metadata": {},
     "output_type": "execute_result"
    }
   ],
   "source": [
    "df.head()"
   ]
  },
  {
   "cell_type": "code",
   "execution_count": 61,
   "metadata": {},
   "outputs": [],
   "source": [
    "test = info.merge(df[['kod','time','sex','age','unit','value']],on='kod',how='outer')"
   ]
  },
  {
   "cell_type": "markdown",
   "metadata": {},
   "source": [
    "Senaste året med jämförbar data är 2016:"
   ]
  },
  {
   "cell_type": "code",
   "execution_count": 62,
   "metadata": {},
   "outputs": [],
   "source": [
    "test = test.loc[test['time']==2016]"
   ]
  },
  {
   "cell_type": "markdown",
   "metadata": {},
   "source": [
    "Alla EU-28-länder som vi vill jämföra emellan:"
   ]
  },
  {
   "cell_type": "code",
   "execution_count": 63,
   "metadata": {},
   "outputs": [],
   "source": [
    "eu_28 = [\n",
    "    'Austria',\n",
    "    'Italy',\n",
    "    'Belgium',\n",
    "    'Latvia',\n",
    "    'Bulgaria',\n",
    "    'Lithuania',\n",
    "    'Croatia',\n",
    "    'Luxembourg',\n",
    "    'Cyprus',\n",
    "    'Malta',\n",
    "    'Czechia',\n",
    "    'Netherlands',\n",
    "    'Denmark',\n",
    "    'Poland',\n",
    "    'Estonia',\n",
    "    'Portugal',\n",
    "    'Finland',\n",
    "    'Romania',\n",
    "    'France',\n",
    "    'Slovakia',\n",
    "    'Germany',\n",
    "    'Slovenia',\n",
    "    'Greece',\n",
    "    'Spain',\n",
    "    'Hungary',\n",
    "    'Sweden',\n",
    "    'Ireland',\n",
    "    'United Kingdom'\n",
    "]"
   ]
  },
  {
   "cell_type": "markdown",
   "metadata": {},
   "source": [
    "Denna följande kod gör följande:\n",
    "\n",
    "1. Filtrerar fram alla rader som _inte_ innehåller några siffror i kolumnen \"kod\". Dvs de rader som är enbart landdata, ej regiondata\n",
    "2. Filtrerar fram data för båda könen\n",
    "3. Filtrerar fram endast länder inom EU28\n",
    "4. Sorterar efter vilket land som har högst medellivslängd\n",
    "5. Filtrerar fram enbart kolumnerna \"land\" och \"value\" för resultatet"
   ]
  },
  {
   "cell_type": "code",
   "execution_count": 64,
   "metadata": {},
   "outputs": [],
   "source": [
    "länderna = test.loc[  (~test['kod'].str.contains('\\d'))\\\n",
    "                    & (test['kod'].str.len() < 3)\\\n",
    "                    & (test['sex'] == 'Total')\\\n",
    "                    & (test['land'].isin(eu_28))]\\\n",
    "    .sort_values('value',ascending=False)\\\n",
    "    .reset_index(drop=True)[['land',\n",
    "                             'value']]"
   ]
  },
  {
   "cell_type": "markdown",
   "metadata": {},
   "source": [
    "Nu ranking av resultatet:"
   ]
  },
  {
   "cell_type": "code",
   "execution_count": 65,
   "metadata": {},
   "outputs": [],
   "source": [
    "länderna['rank'] = länderna['value'].rank(method='min',ascending=False).astype('int')"
   ]
  },
  {
   "cell_type": "code",
   "execution_count": 66,
   "metadata": {},
   "outputs": [],
   "source": [
    "os.makedirs('res')"
   ]
  },
  {
   "cell_type": "code",
   "execution_count": 67,
   "metadata": {},
   "outputs": [],
   "source": [
    "länderna.to_excel('res/efter_länder.xlsx',index=False)"
   ]
  },
  {
   "cell_type": "code",
   "execution_count": 68,
   "metadata": {},
   "outputs": [],
   "source": [
    "df = test.loc[test['land'].isin(eu_28)]"
   ]
  },
  {
   "cell_type": "markdown",
   "metadata": {},
   "source": [
    "Nu behöver vi kontrollera respektive region:"
   ]
  },
  {
   "cell_type": "code",
   "execution_count": 69,
   "metadata": {},
   "outputs": [],
   "source": [
    "nuts = pd.read_csv('data/nuts2.csv', encoding=\"ISO-8859-1\")"
   ]
  },
  {
   "cell_type": "code",
   "execution_count": 70,
   "metadata": {},
   "outputs": [],
   "source": [
    "nuts['region'] = nuts.GEO.str.extract(\" - (.*)\")\n",
    "nuts['kod'] = nuts.GEO.str.extract(\"(.*) - \")"
   ]
  },
  {
   "cell_type": "code",
   "execution_count": 71,
   "metadata": {},
   "outputs": [],
   "source": [
    "nuts['nuts2'] = 'ja'"
   ]
  },
  {
   "cell_type": "code",
   "execution_count": 72,
   "metadata": {},
   "outputs": [],
   "source": [
    "nuts['reg_kod'] = nuts.kod.str.extract('(\\w+\\d+)')\n",
    "\n",
    "nuts.loc[nuts['kod'].str.contains('-'),'kod'] = \\\n",
    "nuts.loc[nuts['kod'].str.contains('-'),'reg_kod']\n",
    "\n",
    "\n",
    "nuts = nuts.drop('reg_kod',axis=1)"
   ]
  },
  {
   "cell_type": "code",
   "execution_count": 73,
   "metadata": {},
   "outputs": [
    {
     "data": {
      "text/html": [
       "<div>\n",
       "<style scoped>\n",
       "    .dataframe tbody tr th:only-of-type {\n",
       "        vertical-align: middle;\n",
       "    }\n",
       "\n",
       "    .dataframe tbody tr th {\n",
       "        vertical-align: top;\n",
       "    }\n",
       "\n",
       "    .dataframe thead th {\n",
       "        text-align: right;\n",
       "    }\n",
       "</style>\n",
       "<table border=\"1\" class=\"dataframe\">\n",
       "  <thead>\n",
       "    <tr style=\"text-align: right;\">\n",
       "      <th></th>\n",
       "      <th>kod</th>\n",
       "      <th>land</th>\n",
       "      <th>region</th>\n",
       "      <th>time</th>\n",
       "      <th>sex</th>\n",
       "      <th>age</th>\n",
       "      <th>unit</th>\n",
       "      <th>value</th>\n",
       "    </tr>\n",
       "  </thead>\n",
       "  <tbody>\n",
       "    <tr>\n",
       "      <th>0</th>\n",
       "      <td>BE</td>\n",
       "      <td>Belgium</td>\n",
       "      <td>Belgium</td>\n",
       "      <td>2016</td>\n",
       "      <td>Total</td>\n",
       "      <td>Less than 1 year</td>\n",
       "      <td>Year</td>\n",
       "      <td>81.5</td>\n",
       "    </tr>\n",
       "    <tr>\n",
       "      <th>1</th>\n",
       "      <td>BE</td>\n",
       "      <td>Belgium</td>\n",
       "      <td>Belgium</td>\n",
       "      <td>2016</td>\n",
       "      <td>Males</td>\n",
       "      <td>Less than 1 year</td>\n",
       "      <td>Year</td>\n",
       "      <td>79.0</td>\n",
       "    </tr>\n",
       "    <tr>\n",
       "      <th>2</th>\n",
       "      <td>BE</td>\n",
       "      <td>Belgium</td>\n",
       "      <td>Belgium</td>\n",
       "      <td>2016</td>\n",
       "      <td>Females</td>\n",
       "      <td>Less than 1 year</td>\n",
       "      <td>Year</td>\n",
       "      <td>84.0</td>\n",
       "    </tr>\n",
       "    <tr>\n",
       "      <th>3</th>\n",
       "      <td>BE1</td>\n",
       "      <td>Belgium</td>\n",
       "      <td>Région de Bruxelles-Capitale / Brussels Hoofds...</td>\n",
       "      <td>2016</td>\n",
       "      <td>Total</td>\n",
       "      <td>Less than 1 year</td>\n",
       "      <td>Year</td>\n",
       "      <td>81.3</td>\n",
       "    </tr>\n",
       "    <tr>\n",
       "      <th>4</th>\n",
       "      <td>BE1</td>\n",
       "      <td>Belgium</td>\n",
       "      <td>Région de Bruxelles-Capitale / Brussels Hoofds...</td>\n",
       "      <td>2016</td>\n",
       "      <td>Males</td>\n",
       "      <td>Less than 1 year</td>\n",
       "      <td>Year</td>\n",
       "      <td>78.4</td>\n",
       "    </tr>\n",
       "  </tbody>\n",
       "</table>\n",
       "</div>"
      ],
      "text/plain": [
       "   kod     land                                             region  time  \\\n",
       "0   BE  Belgium                                            Belgium  2016   \n",
       "1   BE  Belgium                                            Belgium  2016   \n",
       "2   BE  Belgium                                            Belgium  2016   \n",
       "3  BE1  Belgium  Région de Bruxelles-Capitale / Brussels Hoofds...  2016   \n",
       "4  BE1  Belgium  Région de Bruxelles-Capitale / Brussels Hoofds...  2016   \n",
       "\n",
       "       sex               age  unit value  \n",
       "0    Total  Less than 1 year  Year  81.5  \n",
       "1    Males  Less than 1 year  Year  79.0  \n",
       "2  Females  Less than 1 year  Year  84.0  \n",
       "3    Total  Less than 1 year  Year  81.3  \n",
       "4    Males  Less than 1 year  Year  78.4  "
      ]
     },
     "execution_count": 73,
     "metadata": {},
     "output_type": "execute_result"
    }
   ],
   "source": [
    "df.head()"
   ]
  },
  {
   "cell_type": "markdown",
   "metadata": {},
   "source": [
    "Dubbelkolla alla NUTS2-regioner:"
   ]
  },
  {
   "cell_type": "code",
   "execution_count": 74,
   "metadata": {},
   "outputs": [],
   "source": [
    "buggcheck = nuts[['kod','nuts2']].merge(df[['kod','region']],on='kod',how='left')"
   ]
  },
  {
   "cell_type": "code",
   "execution_count": 75,
   "metadata": {},
   "outputs": [],
   "source": [
    "not_included = buggcheck.loc[buggcheck['region'].isnull(),'kod']"
   ]
  },
  {
   "cell_type": "code",
   "execution_count": 76,
   "metadata": {},
   "outputs": [
    {
     "data": {
      "text/html": [
       "<div>\n",
       "<style scoped>\n",
       "    .dataframe tbody tr th:only-of-type {\n",
       "        vertical-align: middle;\n",
       "    }\n",
       "\n",
       "    .dataframe tbody tr th {\n",
       "        vertical-align: top;\n",
       "    }\n",
       "\n",
       "    .dataframe thead th {\n",
       "        text-align: right;\n",
       "    }\n",
       "</style>\n",
       "<table border=\"1\" class=\"dataframe\">\n",
       "  <thead>\n",
       "    <tr style=\"text-align: right;\">\n",
       "      <th></th>\n",
       "      <th>kod</th>\n",
       "      <th>land</th>\n",
       "      <th>region</th>\n",
       "    </tr>\n",
       "  </thead>\n",
       "  <tbody>\n",
       "    <tr>\n",
       "      <th>404</th>\n",
       "      <td>IS00</td>\n",
       "      <td>Iceland</td>\n",
       "      <td>Ísland</td>\n",
       "    </tr>\n",
       "    <tr>\n",
       "      <th>407</th>\n",
       "      <td>LI00</td>\n",
       "      <td>Liechtenstein</td>\n",
       "      <td>Liechtenstein</td>\n",
       "    </tr>\n",
       "    <tr>\n",
       "      <th>410</th>\n",
       "      <td>NO01</td>\n",
       "      <td>Norway</td>\n",
       "      <td>Oslo og Akershus</td>\n",
       "    </tr>\n",
       "    <tr>\n",
       "      <th>411</th>\n",
       "      <td>NO02</td>\n",
       "      <td>Norway</td>\n",
       "      <td>Hedmark og Oppland</td>\n",
       "    </tr>\n",
       "    <tr>\n",
       "      <th>412</th>\n",
       "      <td>NO03</td>\n",
       "      <td>Norway</td>\n",
       "      <td>Sør-Østlandet</td>\n",
       "    </tr>\n",
       "  </tbody>\n",
       "</table>\n",
       "</div>"
      ],
      "text/plain": [
       "      kod           land              region\n",
       "404  IS00        Iceland              Ísland\n",
       "407  LI00  Liechtenstein       Liechtenstein\n",
       "410  NO01         Norway    Oslo og Akershus\n",
       "411  NO02         Norway  Hedmark og Oppland\n",
       "412  NO03         Norway       Sør-Østlandet"
      ]
     },
     "execution_count": 76,
     "metadata": {},
     "output_type": "execute_result"
    }
   ],
   "source": [
    "info.loc[info['kod'].isin(not_included.tolist())].head()"
   ]
  },
  {
   "cell_type": "code",
   "execution_count": 77,
   "metadata": {},
   "outputs": [],
   "source": [
    "df = df.merge(nuts[['kod','nuts2']],on='kod',how='left')"
   ]
  },
  {
   "cell_type": "code",
   "execution_count": 78,
   "metadata": {},
   "outputs": [],
   "source": [
    "df = df.dropna()"
   ]
  },
  {
   "cell_type": "code",
   "execution_count": 79,
   "metadata": {},
   "outputs": [],
   "source": [
    "results = df.sort_values('value',ascending=False)"
   ]
  },
  {
   "cell_type": "code",
   "execution_count": 80,
   "metadata": {},
   "outputs": [],
   "source": [
    "results.value = pd.to_numeric(results.value.str.replace(':',''))"
   ]
  },
  {
   "cell_type": "code",
   "execution_count": 81,
   "metadata": {},
   "outputs": [],
   "source": [
    "results = results.loc[results['sex']=='Total'].sort_values('value',ascending=False).reset_index(drop=True)"
   ]
  },
  {
   "cell_type": "code",
   "execution_count": 82,
   "metadata": {},
   "outputs": [],
   "source": [
    "results = results.reset_index().rename(columns={'index':'rank'})"
   ]
  },
  {
   "cell_type": "code",
   "execution_count": 83,
   "metadata": {},
   "outputs": [],
   "source": [
    "results['rank'] = results['rank']+1"
   ]
  },
  {
   "cell_type": "code",
   "execution_count": 84,
   "metadata": {},
   "outputs": [],
   "source": [
    "eu_28 = [\n",
    "    'Austria',\n",
    "    'Italy',\n",
    "    'Belgium',\n",
    "    'Latvia',\n",
    "    'Bulgaria',\n",
    "    'Lithuania',\n",
    "    'Croatia',\n",
    "    'Luxembourg',\n",
    "    'Cyprus',\n",
    "    'Malta',\n",
    "    'Czechia',\n",
    "    'Netherlands',\n",
    "    'Denmark',\n",
    "    'Poland',\n",
    "    'Estonia',\n",
    "    'Portugal',\n",
    "    'Finland',\n",
    "    'Romania',\n",
    "    'France',\n",
    "    'Slovakia',\n",
    "    'Germany',\n",
    "    'Slovenia',\n",
    "    'Greece',\n",
    "    'Spain',\n",
    "    'Hungary',\n",
    "    'Sweden',\n",
    "    'Ireland',\n",
    "    'United Kingdom'\n",
    "]"
   ]
  },
  {
   "cell_type": "markdown",
   "metadata": {},
   "source": [
    "Översättningar av alla länder:"
   ]
  },
  {
   "cell_type": "code",
   "execution_count": 85,
   "metadata": {},
   "outputs": [],
   "source": [
    "eu_map = {\n",
    "    'Austria':'Österrike',\n",
    "    'Italy':'Italien',\n",
    "    'Belgium':'Belgien',\n",
    "    'Latvia':'Lettland',\n",
    "    'Bulgaria':'Bulgarien',\n",
    "    'Lithuania':'Litauen',\n",
    "    'Croatia':'Kroatien',\n",
    "    'Luxembourg':'Luxenburg',\n",
    "    'Cyprus':'Cypern',\n",
    "    'Malta':'Malta',\n",
    "    'Czechia':'Tjeckien',\n",
    "    'Netherlands':'Nederländerna',\n",
    "    'Denmark':'Danmark',\n",
    "    'Poland':'Polen',\n",
    "    'Estonia':'Estland',\n",
    "    'Portugal':'Portugal',\n",
    "    'Finland':'Finland',\n",
    "    'Romania':'Rumänien',\n",
    "    'France':'Frankrike',\n",
    "    'Slovakia':'Slovakien',\n",
    "    'Germany':'Tyskland',\n",
    "    'Slovenia':'Slovenien',\n",
    "    'Greece':'Grekland',\n",
    "    'Spain':'Spanien',\n",
    "    'Hungary':'Ungern',\n",
    "    'Sweden':'Sverige',\n",
    "    'Ireland':'Irland',\n",
    "    'United Kingdom':'Storbritannien'}\n"
   ]
  },
  {
   "cell_type": "code",
   "execution_count": 86,
   "metadata": {},
   "outputs": [],
   "source": [
    "results.land = results.land.map(eu_map)"
   ]
  },
  {
   "cell_type": "code",
   "execution_count": 87,
   "metadata": {},
   "outputs": [],
   "source": [
    "results = results[['rank','land','region','value']].dropna()"
   ]
  },
  {
   "cell_type": "code",
   "execution_count": 88,
   "metadata": {},
   "outputs": [],
   "source": [
    "results['rank'] = results['value'].rank(method='min',ascending=False).astype('int')"
   ]
  },
  {
   "cell_type": "code",
   "execution_count": 89,
   "metadata": {},
   "outputs": [],
   "source": [
    "pd.concat([pd.concat([results.head(10),results.loc[results['land']=='Sverige']]),results.tail(10)]).to_excel('res/regioner.xlsx',index=False)"
   ]
  },
  {
   "cell_type": "code",
   "execution_count": 90,
   "metadata": {},
   "outputs": [],
   "source": [
    "results.to_excel('res/alla_regioner.xlsx',index=False)"
   ]
  },
  {
   "cell_type": "code",
   "execution_count": 91,
   "metadata": {},
   "outputs": [
    {
     "data": {
      "text/plain": [
       "(275, 4)"
      ]
     },
     "execution_count": 91,
     "metadata": {},
     "output_type": "execute_result"
    }
   ],
   "source": [
    "results.shape"
   ]
  },
  {
   "cell_type": "code",
   "execution_count": null,
   "metadata": {},
   "outputs": [],
   "source": []
  },
  {
   "cell_type": "code",
   "execution_count": null,
   "metadata": {},
   "outputs": [],
   "source": []
  },
  {
   "cell_type": "code",
   "execution_count": null,
   "metadata": {},
   "outputs": [],
   "source": []
  },
  {
   "cell_type": "code",
   "execution_count": null,
   "metadata": {},
   "outputs": [],
   "source": []
  },
  {
   "cell_type": "code",
   "execution_count": null,
   "metadata": {},
   "outputs": [],
   "source": []
  },
  {
   "cell_type": "code",
   "execution_count": null,
   "metadata": {},
   "outputs": [],
   "source": []
  },
  {
   "cell_type": "code",
   "execution_count": null,
   "metadata": {},
   "outputs": [],
   "source": []
  }
 ],
 "metadata": {
  "kernelspec": {
   "display_name": "Python 3",
   "language": "python",
   "name": "python3"
  },
  "language_info": {
   "codemirror_mode": {
    "name": "ipython",
    "version": 3
   },
   "file_extension": ".py",
   "mimetype": "text/x-python",
   "name": "python",
   "nbconvert_exporter": "python",
   "pygments_lexer": "ipython3",
   "version": "3.6.2"
  }
 },
 "nbformat": 4,
 "nbformat_minor": 2
}
